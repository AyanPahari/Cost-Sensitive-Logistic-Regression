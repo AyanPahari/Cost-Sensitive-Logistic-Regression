{
 "cells": [
  {
   "cell_type": "markdown",
   "id": "c2d2f9ff",
   "metadata": {},
   "source": [
    "# <center>Cost Sensitive Logistic Regression Implementation"
   ]
  },
  {
   "cell_type": "markdown",
   "id": "a2b018e1",
   "metadata": {},
   "source": [
    "### Importing the necessary Libraries"
   ]
  },
  {
   "cell_type": "code",
   "execution_count": 2,
   "id": "5c4b6cad",
   "metadata": {},
   "outputs": [],
   "source": [
    "# Make sure you have these two libraries installed on your system before running the above cell\n",
    "# ! pip install pyea\n",
    "# ! pip install joblib"
   ]
  },
  {
   "cell_type": "code",
   "execution_count": 3,
   "id": "1079497b",
   "metadata": {},
   "outputs": [],
   "source": [
    "# importing all the necessary modules\n",
    "import numpy as np\n",
    "import pandas as pd\n",
    "import matplotlib.pyplot as plt\n",
    "import seaborn as sns\n",
    "\n",
    "import math\n",
    "import warnings\n",
    "warnings.filterwarnings(\"ignore\")\n",
    "\n",
    "from sklearn.model_selection import train_test_split\n",
    "\n",
    "import sys\n",
    "import joblib\n",
    "sys.modules['sklearn.externals.joblib'] = joblib\n",
    "from pyea import GeneticAlgorithmOptimizer"
   ]
  },
  {
   "cell_type": "markdown",
   "id": "4341303a",
   "metadata": {},
   "source": [
    "### Loading the data from the \"costsensitivedata.csv\" file and displaying it"
   ]
  },
  {
   "cell_type": "code",
   "execution_count": 4,
   "id": "5a40a83a",
   "metadata": {},
   "outputs": [
    {
     "data": {
      "text/html": [
       "<div>\n",
       "<style scoped>\n",
       "    .dataframe tbody tr th:only-of-type {\n",
       "        vertical-align: middle;\n",
       "    }\n",
       "\n",
       "    .dataframe tbody tr th {\n",
       "        vertical-align: top;\n",
       "    }\n",
       "\n",
       "    .dataframe thead th {\n",
       "        text-align: right;\n",
       "    }\n",
       "</style>\n",
       "<table border=\"1\" class=\"dataframe\">\n",
       "  <thead>\n",
       "    <tr style=\"text-align: right;\">\n",
       "      <th></th>\n",
       "      <th>Status</th>\n",
       "      <th>NotCount</th>\n",
       "      <th>YesCount</th>\n",
       "      <th>ATPM</th>\n",
       "      <th>PFD</th>\n",
       "      <th>PFG</th>\n",
       "      <th>SFD</th>\n",
       "      <th>SFG</th>\n",
       "      <th>WP</th>\n",
       "      <th>WS</th>\n",
       "      <th>FNC</th>\n",
       "    </tr>\n",
       "  </thead>\n",
       "  <tbody>\n",
       "    <tr>\n",
       "      <th>0</th>\n",
       "      <td>0</td>\n",
       "      <td>2</td>\n",
       "      <td>21</td>\n",
       "      <td>0.0</td>\n",
       "      <td>0.00000</td>\n",
       "      <td>0.00000</td>\n",
       "      <td>0.0</td>\n",
       "      <td>0.0000</td>\n",
       "      <td>0.000000</td>\n",
       "      <td>0.000000</td>\n",
       "      <td>0.000000e+00</td>\n",
       "    </tr>\n",
       "    <tr>\n",
       "      <th>1</th>\n",
       "      <td>1</td>\n",
       "      <td>23</td>\n",
       "      <td>0</td>\n",
       "      <td>0.0</td>\n",
       "      <td>0.04400</td>\n",
       "      <td>0.00000</td>\n",
       "      <td>0.0</td>\n",
       "      <td>0.0000</td>\n",
       "      <td>0.306179</td>\n",
       "      <td>0.000000</td>\n",
       "      <td>0.000000e+00</td>\n",
       "    </tr>\n",
       "    <tr>\n",
       "      <th>2</th>\n",
       "      <td>0</td>\n",
       "      <td>1</td>\n",
       "      <td>22</td>\n",
       "      <td>0.0</td>\n",
       "      <td>0.00000</td>\n",
       "      <td>0.00000</td>\n",
       "      <td>0.0</td>\n",
       "      <td>0.0000</td>\n",
       "      <td>0.000000</td>\n",
       "      <td>0.000000</td>\n",
       "      <td>0.000000e+00</td>\n",
       "    </tr>\n",
       "    <tr>\n",
       "      <th>3</th>\n",
       "      <td>1</td>\n",
       "      <td>5</td>\n",
       "      <td>18</td>\n",
       "      <td>0.0</td>\n",
       "      <td>0.00000</td>\n",
       "      <td>0.00000</td>\n",
       "      <td>0.0</td>\n",
       "      <td>0.0000</td>\n",
       "      <td>0.000000</td>\n",
       "      <td>0.000000</td>\n",
       "      <td>0.000000e+00</td>\n",
       "    </tr>\n",
       "    <tr>\n",
       "      <th>4</th>\n",
       "      <td>0</td>\n",
       "      <td>1</td>\n",
       "      <td>22</td>\n",
       "      <td>0.0</td>\n",
       "      <td>0.00000</td>\n",
       "      <td>0.00000</td>\n",
       "      <td>0.0</td>\n",
       "      <td>0.0000</td>\n",
       "      <td>0.000000</td>\n",
       "      <td>0.000000</td>\n",
       "      <td>0.000000e+00</td>\n",
       "    </tr>\n",
       "    <tr>\n",
       "      <th>...</th>\n",
       "      <td>...</td>\n",
       "      <td>...</td>\n",
       "      <td>...</td>\n",
       "      <td>...</td>\n",
       "      <td>...</td>\n",
       "      <td>...</td>\n",
       "      <td>...</td>\n",
       "      <td>...</td>\n",
       "      <td>...</td>\n",
       "      <td>...</td>\n",
       "      <td>...</td>\n",
       "    </tr>\n",
       "    <tr>\n",
       "      <th>147631</th>\n",
       "      <td>0</td>\n",
       "      <td>4</td>\n",
       "      <td>19</td>\n",
       "      <td>1.0</td>\n",
       "      <td>1.09306</td>\n",
       "      <td>4.25256</td>\n",
       "      <td>0.0</td>\n",
       "      <td>0.0000</td>\n",
       "      <td>21.946737</td>\n",
       "      <td>2.679667</td>\n",
       "      <td>6.092077e+05</td>\n",
       "    </tr>\n",
       "    <tr>\n",
       "      <th>147632</th>\n",
       "      <td>0</td>\n",
       "      <td>16</td>\n",
       "      <td>7</td>\n",
       "      <td>1.0</td>\n",
       "      <td>0.00000</td>\n",
       "      <td>0.00000</td>\n",
       "      <td>0.0</td>\n",
       "      <td>0.0000</td>\n",
       "      <td>0.000000</td>\n",
       "      <td>2.549239</td>\n",
       "      <td>6.996571e+05</td>\n",
       "    </tr>\n",
       "    <tr>\n",
       "      <th>147633</th>\n",
       "      <td>0</td>\n",
       "      <td>2</td>\n",
       "      <td>21</td>\n",
       "      <td>1.0</td>\n",
       "      <td>4.64145</td>\n",
       "      <td>5.47616</td>\n",
       "      <td>0.0</td>\n",
       "      <td>25.5783</td>\n",
       "      <td>48.283019</td>\n",
       "      <td>2.442827</td>\n",
       "      <td>9.658214e+05</td>\n",
       "    </tr>\n",
       "    <tr>\n",
       "      <th>147634</th>\n",
       "      <td>0</td>\n",
       "      <td>3</td>\n",
       "      <td>20</td>\n",
       "      <td>1.0</td>\n",
       "      <td>0.00000</td>\n",
       "      <td>0.40989</td>\n",
       "      <td>0.0</td>\n",
       "      <td>0.0000</td>\n",
       "      <td>0.694601</td>\n",
       "      <td>4.078739</td>\n",
       "      <td>1.612465e+06</td>\n",
       "    </tr>\n",
       "    <tr>\n",
       "      <th>147635</th>\n",
       "      <td>0</td>\n",
       "      <td>6</td>\n",
       "      <td>17</td>\n",
       "      <td>1.0</td>\n",
       "      <td>3.16026</td>\n",
       "      <td>4.86214</td>\n",
       "      <td>0.0</td>\n",
       "      <td>0.0000</td>\n",
       "      <td>19.958639</td>\n",
       "      <td>2.077415</td>\n",
       "      <td>1.703186e+06</td>\n",
       "    </tr>\n",
       "  </tbody>\n",
       "</table>\n",
       "<p>147636 rows × 11 columns</p>\n",
       "</div>"
      ],
      "text/plain": [
       "        Status  NotCount  YesCount  ATPM      PFD      PFG  SFD      SFG  \\\n",
       "0            0         2        21   0.0  0.00000  0.00000  0.0   0.0000   \n",
       "1            1        23         0   0.0  0.04400  0.00000  0.0   0.0000   \n",
       "2            0         1        22   0.0  0.00000  0.00000  0.0   0.0000   \n",
       "3            1         5        18   0.0  0.00000  0.00000  0.0   0.0000   \n",
       "4            0         1        22   0.0  0.00000  0.00000  0.0   0.0000   \n",
       "...        ...       ...       ...   ...      ...      ...  ...      ...   \n",
       "147631       0         4        19   1.0  1.09306  4.25256  0.0   0.0000   \n",
       "147632       0        16         7   1.0  0.00000  0.00000  0.0   0.0000   \n",
       "147633       0         2        21   1.0  4.64145  5.47616  0.0  25.5783   \n",
       "147634       0         3        20   1.0  0.00000  0.40989  0.0   0.0000   \n",
       "147635       0         6        17   1.0  3.16026  4.86214  0.0   0.0000   \n",
       "\n",
       "               WP        WS           FNC  \n",
       "0        0.000000  0.000000  0.000000e+00  \n",
       "1        0.306179  0.000000  0.000000e+00  \n",
       "2        0.000000  0.000000  0.000000e+00  \n",
       "3        0.000000  0.000000  0.000000e+00  \n",
       "4        0.000000  0.000000  0.000000e+00  \n",
       "...           ...       ...           ...  \n",
       "147631  21.946737  2.679667  6.092077e+05  \n",
       "147632   0.000000  2.549239  6.996571e+05  \n",
       "147633  48.283019  2.442827  9.658214e+05  \n",
       "147634   0.694601  4.078739  1.612465e+06  \n",
       "147635  19.958639  2.077415  1.703186e+06  \n",
       "\n",
       "[147636 rows x 11 columns]"
      ]
     },
     "execution_count": 4,
     "metadata": {},
     "output_type": "execute_result"
    }
   ],
   "source": [
    "df = pd.read_csv('costsensitivedata.csv')\n",
    "df"
   ]
  },
  {
   "cell_type": "code",
   "execution_count": 5,
   "id": "8f826d79",
   "metadata": {},
   "outputs": [
    {
     "data": {
      "text/plain": [
       "(array([0, 1], dtype=int64), array([103554,  44082], dtype=int64))"
      ]
     },
     "execution_count": 5,
     "metadata": {},
     "output_type": "execute_result"
    }
   ],
   "source": [
    "# checking the distribution of the class label \"Status\"\n",
    "np.unique(df['Status'],return_counts=True)"
   ]
  },
  {
   "cell_type": "code",
   "execution_count": 6,
   "id": "ffe9421a",
   "metadata": {},
   "outputs": [
    {
     "data": {
      "image/png": "[encoded data removed]",
      "text/plain": [
       "<Figure size 432x288 with 1 Axes>"
      ]
     },
     "metadata": {
      "needs_background": "light"
     },
     "output_type": "display_data"
    }
   ],
   "source": [
    "sns.countplot(data = df, x = 'Status')\n",
    "plt.show()"
   ]
  },
  {
   "cell_type": "markdown",
   "id": "be149599",
   "metadata": {},
   "source": [
    "### As can be seen from the above plot that the distribution of the data is not balanced. 103554 belong to one class and 44082 belong to another"
   ]
  },
  {
   "cell_type": "code",
   "execution_count": 7,
   "id": "2428c5c5",
   "metadata": {},
   "outputs": [],
   "source": [
    "# all the features except the class label\n",
    "X = df.drop('Status',axis = 1)"
   ]
  },
  {
   "cell_type": "code",
   "execution_count": 8,
   "id": "7b3a68b9",
   "metadata": {},
   "outputs": [],
   "source": [
    "# class label\n",
    "y = df['Status']"
   ]
  },
  {
   "cell_type": "markdown",
   "id": "7adc984b",
   "metadata": {},
   "source": [
    "### Calculating the cost loss from the cost function discussed in class"
   ]
  },
  {
   "cell_type": "markdown",
   "id": "3bba483c",
   "metadata": {},
   "source": [
    "![Img](cost_function.jpg \"Title\")"
   ]
  },
  {
   "cell_type": "markdown",
   "id": "dfaf652c",
   "metadata": {},
   "source": [
    "### Image taken from Alejandro CORREA BAHNSEN Research Paper"
   ]
  },
  {
   "cell_type": "code",
   "execution_count": 9,
   "id": "238954e8",
   "metadata": {},
   "outputs": [],
   "source": [
    "# calculating the cost using the cost function discussed in the class(optimized one)\n",
    "def get_cost_loss_optimized(y_true, y_pred, cost_matrix):\n",
    "    \n",
    "    y_true = np.array(y_true).astype(np.float)\n",
    "    y_pred = np.array(y_pred).astype(np.float)\n",
    "    total_cost = y_true * ((1 - y_pred) * cost_matrix[:, 1] + y_pred * cost_matrix[:, 2]) + (1 - y_true) * (y_pred * cost_matrix[:, 0] + (1 - y_pred) * cost_matrix[:, 3])\n",
    "    return np.sum(total_cost)"
   ]
  },
  {
   "cell_type": "markdown",
   "id": "41f9b0f8",
   "metadata": {},
   "source": [
    "### Cost loss using the naive version of Logistic Regression"
   ]
  },
  {
   "cell_type": "code",
   "execution_count": 10,
   "id": "9535497e",
   "metadata": {},
   "outputs": [],
   "source": [
    "def get_cost_loss_naive(y_true,y_pred,cost_matrix):\n",
    "    cost_naive = min(get_cost_loss_optimized(y_true, np.zeros(len(y_true)), cost_matrix),\n",
    "                    get_cost_loss_optimized(y_true, np.ones(len(y_true)), cost_matrix))\n",
    "    return cost_naive"
   ]
  },
  {
   "cell_type": "markdown",
   "id": "8d4faff8",
   "metadata": {},
   "source": [
    "### Function to calculate the savings score which is  defined as the cost of the optimized algorithm versus the cost of the naive algorithm"
   ]
  },
  {
   "cell_type": "markdown",
   "id": "b4974804",
   "metadata": {},
   "source": [
    "### Saving Score = 1 - (cost loss using optimized function / cost loss using naive function)"
   ]
  },
  {
   "cell_type": "code",
   "execution_count": 11,
   "id": "cdf68c20",
   "metadata": {},
   "outputs": [],
   "source": [
    "def get_savings_score(y_true, y_pred, cost_matrix):\n",
    "\n",
    "    # Calculate the cost using the naive prediction approach\n",
    "    cost_naive = get_cost_loss_naive(y_true,y_pred,cost_matrix)\n",
    "    cost_optimized = get_cost_loss_optimized(y_true, y_pred, cost_matrix)\n",
    "    return 1.0 - cost_optimized / cost_naive"
   ]
  },
  {
   "cell_type": "markdown",
   "id": "5e58e534",
   "metadata": {},
   "source": [
    "### Sigmoid Function"
   ]
  },
  {
   "cell_type": "code",
   "execution_count": 12,
   "id": "95c8c09d",
   "metadata": {},
   "outputs": [],
   "source": [
    "# function to calculate the sigmoid function \n",
    "def sigmoid_function(x):\n",
    "    return 1 / (1 + np.exp(-x))"
   ]
  },
  {
   "cell_type": "markdown",
   "id": "564adfb3",
   "metadata": {},
   "source": [
    "### Function to compute the Logistic cost loss"
   ]
  },
  {
   "cell_type": "code",
   "execution_count": 13,
   "id": "646c39f9",
   "metadata": {},
   "outputs": [],
   "source": [
    "def logit_cost_loss_for_each_iteration(w_trans, X, y, cost_matix, alpha):\n",
    "    \n",
    "    C = 0\n",
    "    if w_trans.size == X.shape[1] + 1:\n",
    "        C = w_trans[-1]\n",
    "        w_trans = w_trans[:-1]\n",
    "\n",
    "    y_cap = np.dot(X, w_trans) + C\n",
    "    y_prob = sigmoid_function(y_cap)\n",
    "    res = (get_cost_loss_optimized(y, y_prob, cost_matix) / X.shape[0]) + (0.5 * alpha * np.dot(w_trans, w_trans))\n",
    "    return res\n",
    "\n",
    "def total_logistic_cost_loss(w_trans, X, y, cost_matrix, alpha):\n",
    "    \n",
    "    if w_trans.shape[0] == w_trans.size:\n",
    "        # Only evaluating one instance of w_trans here\n",
    "        return logit_cost_loss_for_each_iteration(w_trans, X, y, cost_matix, alpha)\n",
    "\n",
    "    else:\n",
    "        # Evaluating an array of w_trans here\n",
    "        res = np.zeros(w_trans.shape[0])\n",
    "\n",
    "        for i in range(w_trans.shape[0]):\n",
    "            res[i] = logit_cost_loss_for_each_iteration(w_trans[i], X, y, cost_matrix, alpha)\n",
    "\n",
    "        return res"
   ]
  },
  {
   "cell_type": "markdown",
   "id": "a671e5fc",
   "metadata": {},
   "source": [
    "### Since this optimized cost function is not convex, we estimate the parameters with genetic algorithms\n",
    "### We have used GeneticAlgorithmOptimizer provided by the pyea module"
   ]
  },
  {
   "cell_type": "code",
   "execution_count": 14,
   "id": "69e2d8dc",
   "metadata": {},
   "outputs": [],
   "source": [
    "class Cost_Sensitive_Logistic_Regression():\n",
    "\n",
    "    def train(self, X, y, cost_matrix):\n",
    "\n",
    "        w_trans = np.zeros(X.shape[1] + 1)\n",
    "        #running the GeneticAlgorithmOptimizer for 100 iterations, with number of chromosomes as 100 and per_mutaions as 0.25\n",
    "        genetic_model = GeneticAlgorithmOptimizer(total_logistic_cost_loss, w_trans.shape[0],iters = 100, n_chromosomes = 100,per_mutations = 0.25,type_ = 'cont',fargs=(X, y, cost_matrix, 1))\n",
    "        genetic_model.fit()\n",
    "\n",
    "        self.coefficient = genetic_model.x[:-1]\n",
    "        self.intercept = genetic_model.x[-1]\n",
    "            \n",
    "    def get_predicted_prob(self, X):\n",
    "        \n",
    "        y_prob = np.zeros((X.shape[0], 2))\n",
    "        y_prob[:, 1] = sigmoid_function(np.dot(X, self.coefficient) + self.intercept)\n",
    "        y_prob[:, 0] = 1 - y_prob[:, 1]\n",
    "        return y_prob\n",
    "\n",
    "    def predict(self, X):\n",
    "        \n",
    "        return np.floor(self.get_predicted_prob(X)[:, 1] + 0.5)"
   ]
  },
  {
   "cell_type": "markdown",
   "id": "43aa5afb",
   "metadata": {},
   "source": [
    "### Splitting the data into train test split (70:30) where 70% of the data is used for training the model"
   ]
  },
  {
   "cell_type": "code",
   "execution_count": 15,
   "id": "426d3f32",
   "metadata": {},
   "outputs": [],
   "source": [
    "X_train, X_test, y_train, y_test = train_test_split(X, y, test_size=0.30, random_state=101)"
   ]
  },
  {
   "cell_type": "markdown",
   "id": "1c1aff8a",
   "metadata": {},
   "source": [
    "### Preparing the Cost Matrix"
   ]
  },
  {
   "cell_type": "code",
   "execution_count": 16,
   "id": "d358cb24",
   "metadata": {},
   "outputs": [
    {
     "data": {
      "text/plain": [
       "147636"
      ]
     },
     "execution_count": 16,
     "metadata": {},
     "output_type": "execute_result"
    }
   ],
   "source": [
    "len(df)"
   ]
  },
  {
   "cell_type": "markdown",
   "id": "8e5ce2e2",
   "metadata": {},
   "source": [
    "### Here we are taking the following costs\n",
    "### FNC = FNC values from the dataset provided\n",
    "### FPC = 150\n",
    "### TPC = 150\n",
    "### TNC = 0"
   ]
  },
  {
   "cell_type": "markdown",
   "id": "d27d3e6f",
   "metadata": {},
   "source": [
    "### Our Cost Matrix is of the form\n",
    "### [[FPC,FNC,TPC,TNC]]"
   ]
  },
  {
   "cell_type": "markdown",
   "id": "810682fa",
   "metadata": {},
   "source": [
    "### Preparing the Cost Matrix"
   ]
  },
  {
   "cell_type": "code",
   "execution_count": 17,
   "id": "66a67aef",
   "metadata": {},
   "outputs": [],
   "source": [
    "# 147636 is the total number of nodes\n",
    "FP = [150] * 147636\n",
    "TP = [150] * 147636\n",
    "TN = [0] * 147636\n",
    "\n",
    "cost_mat_df = pd.DataFrame(FP, columns = ['FP'])\n",
    "cost_mat_df['FN'] = df['FNC']\n",
    "cost_mat_df['TP'] = TP\n",
    "cost_mat_df['TN'] = TN\n",
    "cost_mat_df = cost_mat_df.astype(float)\n",
    "cost_mat = cost_mat_df.values"
   ]
  },
  {
   "cell_type": "markdown",
   "id": "8d878bfd",
   "metadata": {},
   "source": [
    "### Splitting the Cost Matrix into Train and Test splits"
   ]
  },
  {
   "cell_type": "code",
   "execution_count": 18,
   "id": "b425ae9f",
   "metadata": {},
   "outputs": [],
   "source": [
    "# splitting the cost matrix into train and test splits\n",
    "cost_mat_df_train, cost_mat_df_test = train_test_split(cost_mat_df,test_size=0.30, random_state=101)"
   ]
  },
  {
   "cell_type": "code",
   "execution_count": 19,
   "id": "2ecbcf5e",
   "metadata": {},
   "outputs": [],
   "source": [
    "# we now have our cost matrix ready\n",
    "cost_mat_train = cost_mat_df_train.values\n",
    "cost_mat_test = cost_mat_df_test.values"
   ]
  },
  {
   "cell_type": "markdown",
   "id": "2e6a4377",
   "metadata": {},
   "source": [
    "## First Check our results on the Naive Logistic Regression(Sklearn)"
   ]
  },
  {
   "cell_type": "code",
   "execution_count": 20,
   "id": "3cd698d6",
   "metadata": {},
   "outputs": [],
   "source": [
    "from sklearn.linear_model import LogisticRegression\n",
    "model = LogisticRegression()\n",
    "model.fit(X_train,y_train)\n",
    "pred = model.predict(X_test)"
   ]
  },
  {
   "cell_type": "code",
   "execution_count": 21,
   "id": "e31e0fc2",
   "metadata": {},
   "outputs": [
    {
     "data": {
      "text/plain": [
       "0.4812957184786977"
      ]
     },
     "execution_count": 21,
     "metadata": {},
     "output_type": "execute_result"
    }
   ],
   "source": [
    "get_savings_score(y_test,pred,cost_mat_test)"
   ]
  },
  {
   "cell_type": "markdown",
   "id": "373a4f62",
   "metadata": {},
   "source": [
    "## Using Naive Logistic Regression we are getting a Saving's Score between 0.48-0.49"
   ]
  },
  {
   "cell_type": "markdown",
   "id": "ad130b18",
   "metadata": {},
   "source": [
    "### Let's see if we can imporove it using our Cost Sensitive Logistic Regression Model"
   ]
  },
  {
   "cell_type": "markdown",
   "id": "109c6e44",
   "metadata": {},
   "source": [
    "### Training the model and making predictions"
   ]
  },
  {
   "cell_type": "code",
   "execution_count": 22,
   "id": "13a7c801",
   "metadata": {},
   "outputs": [],
   "source": [
    "model = Cost_Sensitive_Logistic_Regression()\n",
    "model.train(X_train,y_train,cost_mat_train)\n",
    "pred = model.predict(X_test)"
   ]
  },
  {
   "cell_type": "markdown",
   "id": "1d6d94f2",
   "metadata": {},
   "source": [
    "### Cost loss Using the naive cost function"
   ]
  },
  {
   "cell_type": "code",
   "execution_count": 23,
   "id": "abca4d4d",
   "metadata": {},
   "outputs": [
    {
     "data": {
      "text/plain": [
       "6643650.0"
      ]
     },
     "execution_count": 23,
     "metadata": {},
     "output_type": "execute_result"
    }
   ],
   "source": [
    "get_cost_loss_naive(y_test,pred,cost_mat_test)"
   ]
  },
  {
   "cell_type": "markdown",
   "id": "cbb0aaf2",
   "metadata": {},
   "source": [
    "### Cost loss using the optimized cost function"
   ]
  },
  {
   "cell_type": "code",
   "execution_count": 24,
   "id": "f4185fe9",
   "metadata": {},
   "outputs": [
    {
     "data": {
      "text/plain": [
       "1017974.5393050001"
      ]
     },
     "execution_count": 24,
     "metadata": {},
     "output_type": "execute_result"
    }
   ],
   "source": [
    "get_cost_loss_optimized(y_test,pred,cost_mat_test)"
   ]
  },
  {
   "cell_type": "markdown",
   "id": "43471e9f",
   "metadata": {},
   "source": [
    "### As can be seen we have significantly reduced the cost loss"
   ]
  },
  {
   "cell_type": "markdown",
   "id": "54dacdd3",
   "metadata": {},
   "source": [
    "## Calculating the Saving's Score using Cost Sensitive Logistic Regression Model"
   ]
  },
  {
   "cell_type": "code",
   "execution_count": 25,
   "id": "489f07c7",
   "metadata": {},
   "outputs": [
    {
     "data": {
      "text/plain": [
       "0.8467748091327809"
      ]
     },
     "execution_count": 25,
     "metadata": {},
     "output_type": "execute_result"
    }
   ],
   "source": [
    "get_savings_score(y_test,pred,cost_mat_test)"
   ]
  },
  {
   "cell_type": "markdown",
   "id": "692a950d",
   "metadata": {},
   "source": [
    "## We are getting a Saving's Score of between 0.82-0.85 which is a huge improvement compared to the normal Logistic Regression which is giving between 0.48-0.49"
   ]
  },
  {
   "cell_type": "code",
   "execution_count": 26,
   "id": "78f70ace",
   "metadata": {},
   "outputs": [
    {
     "data": {
      "image/png": "[encoded data removed]",
      "text/plain": [
       "<Figure size 432x288 with 1 Axes>"
      ]
     },
     "metadata": {
      "needs_background": "light"
     },
     "output_type": "display_data"
    }
   ],
   "source": [
    "data=[[\"Normal Logistic Regression\",0.48],\n",
    "      [\"Cost Sensitive Logistic Regression\",0.84]]\n",
    "\n",
    "df=pd.DataFrame(data,columns=[\"Algorithm Used\",\"Saving's Score\"])\n",
    "df.plot(x=\"Algorithm Used\", y=[\"Saving's Score\"], kind=\"bar\")\n",
    "plt.show()"
   ]
  },
  {
   "cell_type": "code",
   "execution_count": null,
   "id": "e4d4421c",
   "metadata": {},
   "outputs": [],
   "source": []
  }
 ],
 "metadata": {
  "kernelspec": {
   "display_name": "Python 3",
   "language": "python",
   "name": "python3"
  },
  "language_info": {
   "codemirror_mode": {
    "name": "ipython",
    "version": 3
   },
   "file_extension": ".py",
   "mimetype": "text/x-python",
   "name": "python",
   "nbconvert_exporter": "python",
   "pygments_lexer": "ipython3",
   "version": "3.8.8"
  }
 },
 "nbformat": 4,
 "nbformat_minor": 5
}
